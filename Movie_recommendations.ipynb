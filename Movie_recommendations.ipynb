{
 "cells": [
  {
   "cell_type": "code",
   "execution_count": null,
   "id": "1a9c0964",
   "metadata": {},
   "outputs": [],
   "source": [
    "!pip install Flask==2.1.0 matplotlib==3.4.3 numpy==1.21.2 pandas==1.3.3 scikit-learn==0.24.2 scipy==1.7.1 seaborn==0.11.2\n",
    "\n"
   ]
  },
  {
   "cell_type": "code",
   "execution_count": 1,
   "id": "6adc6016",
   "metadata": {},
   "outputs": [
    {
     "ename": "ModuleNotFoundError",
     "evalue": "No module named 'flask'",
     "output_type": "error",
     "traceback": [
      "\u001b[1;31m---------------------------------------------------------------------------\u001b[0m",
      "\u001b[1;31mModuleNotFoundError\u001b[0m                       Traceback (most recent call last)",
      "Cell \u001b[1;32mIn[1], line 2\u001b[0m\n\u001b[0;32m      1\u001b[0m \u001b[38;5;28;01mimport\u001b[39;00m \u001b[38;5;21;01mpandas\u001b[39;00m \u001b[38;5;28;01mas\u001b[39;00m \u001b[38;5;21;01mpd\u001b[39;00m\n\u001b[1;32m----> 2\u001b[0m \u001b[38;5;28;01mfrom\u001b[39;00m \u001b[38;5;21;01mflask\u001b[39;00m \u001b[38;5;28;01mimport\u001b[39;00m Flask, render_template, request\n\u001b[0;32m      3\u001b[0m \u001b[38;5;28;01mfrom\u001b[39;00m \u001b[38;5;21;01msklearn\u001b[39;00m\u001b[38;5;21;01m.\u001b[39;00m\u001b[38;5;21;01mfeature_extraction\u001b[39;00m\u001b[38;5;21;01m.\u001b[39;00m\u001b[38;5;21;01mtext\u001b[39;00m \u001b[38;5;28;01mimport\u001b[39;00m CountVectorizer\n\u001b[0;32m      4\u001b[0m \u001b[38;5;28;01mfrom\u001b[39;00m \u001b[38;5;21;01msklearn\u001b[39;00m\u001b[38;5;21;01m.\u001b[39;00m\u001b[38;5;21;01mmetrics\u001b[39;00m\u001b[38;5;21;01m.\u001b[39;00m\u001b[38;5;21;01mpairwise\u001b[39;00m \u001b[38;5;28;01mimport\u001b[39;00m cosine_similarity\n",
      "\u001b[1;31mModuleNotFoundError\u001b[0m: No module named 'flask'"
     ]
    }
   ],
   "source": [
    "import pandas as pd\n",
    "from flask import Flask, render_template, request\n",
    "from sklearn.feature_extraction.text import CountVectorizer\n",
    "from sklearn.metrics.pairwise import cosine_similarity\n",
    "import matplotlib.pyplot as plt\n",
    "import seaborn as sns"
   ]
  },
  {
   "cell_type": "code",
   "execution_count": null,
   "id": "291b0526",
   "metadata": {},
   "outputs": [],
   "source": [
    "def clean_data(x):\n",
    "    return str(x).lower().replace(\" \", \"\")\n",
    "\n",
    "def create_soup(x):\n",
    "    return x['Movie'] + ' ' + x['director'] + ' ' + x['cast'] + ' ' + x['genre'] + ' ' + x['description']\n",
    "\n",
    "def get_recommendations(title, cosine_sim, netflix_data):\n",
    "    title = title.replace(' ', '').lower()\n",
    "\n",
    "    if title in indices:\n",
    "        idx = indices[title]\n",
    "        sim_scores = list(enumerate(cosine_sim[idx]))\n",
    "        sim_scores = sorted(sim_scores, key=lambda x: x[1], reverse=True)\n",
    "        sim_scores = sim_scores[1:11]\n",
    "        movie_indices = [i[0] for i in sim_scores]\n",
    "        result = netflix_data.iloc[movie_indices][['Movie', 'Rating']]\n",
    "        result = result.reset_index(drop=True)\n",
    "        return result\n",
    "    else:\n",
    "        result = pd.DataFrame(columns=['No movies found'])\n",
    "        return result\n",
    "\n",
    "def get_recommendations_by_genre(genre, netflix_data):\n",
    "    genre = clean_data(genre)\n",
    "    netflix_data['cleaned_genre'] = netflix_data['genre'].apply(clean_data)\n",
    "    \n",
    "    genre_indices = netflix_data[netflix_data['cleaned_genre'].str.contains(genre)].index\n",
    "    \n",
    "    if not genre_indices.empty:\n",
    "        # Sorting by rating and selecting top 10 movies\n",
    "        top_genre_recommendations = netflix_data.loc[genre_indices, ['Movie', 'Rating']].sort_values(by='Rating', ascending=False).head(10)\n",
    "        top_genre_recommendations = top_genre_recommendations.reset_index(drop=True)\n",
    "        return top_genre_recommendations\n",
    "    else:\n",
    "        result = pd.DataFrame(columns=['No movies found in this genre'])\n",
    "        return result"
   ]
  },
  {
   "cell_type": "code",
   "execution_count": null,
   "id": "a7401540",
   "metadata": {},
   "outputs": [],
   "source": [
    "netflix_data = pd.read_csv('netflix_titles.csv')\n",
    "netflix_data = netflix_data.fillna('')\n",
    "\n",
    "new_features = ['Movie', 'director', 'cast', 'genre', 'description', 'Rating']\n",
    "for feature in new_features:\n",
    "    netflix_data[feature] = netflix_data[feature].apply(clean_data)\n",
    "\n",
    "netflix_data['soup'] = netflix_data.apply(create_soup, axis=1)\n",
    "count = CountVectorizer(stop_words='english')\n",
    "count_matrix = count.fit_transform(netflix_data['soup'])\n",
    "cosine_sim2 = cosine_similarity(count_matrix, count_matrix)\n",
    "netflix_data = netflix_data.reset_index()\n",
    "indices = pd.Series(netflix_data.index, index=netflix_data['Movie'])"
   ]
  },
  {
   "cell_type": "code",
   "execution_count": null,
   "id": "147eb202",
   "metadata": {},
   "outputs": [],
   "source": [
    "plt.figure(figsize=(10, 6))\n",
    "sns.histplot(netflix_data['Rating'], bins=20, kde=True)\n",
    "plt.title('Distribution of Movie Ratings')\n",
    "plt.xlabel('Rating')\n",
    "plt.ylabel('Frequency')\n",
    "plt.show()"
   ]
  },
  {
   "cell_type": "code",
   "execution_count": null,
   "id": "ccf1500e",
   "metadata": {},
   "outputs": [],
   "source": [
    "top_genres = netflix_data['genre'].value_counts().head(10)\n",
    "plt.figure(figsize=(12, 6))\n",
    "top_genres.plot(kind='bar')\n",
    "plt.title('Top 10 Movie Genres')\n",
    "plt.xlabel('Genre')\n",
    "plt.ylabel('Number of Movies')\n",
    "plt.xticks(rotation=45)\n",
    "plt.show()"
   ]
  },
  {
   "cell_type": "code",
   "execution_count": null,
   "id": "285a2ae4",
   "metadata": {},
   "outputs": [],
   "source": [
    "app = Flask(__name__)\n",
    "\n",
    "@app.route('/')\n",
    "def index():\n",
    "    return render_template('index.html')\n",
    "\n",
    "@app.route('/recommend', methods=['POST'])\n",
    "def recommend():\n",
    "    recommend_type = request.form['recommend_type']\n",
    "    input_value = request.form['input_value']\n",
    "\n",
    "    if recommend_type == 'byname':\n",
    "        recommendations = get_recommendations(input_value, cosine_sim2, netflix_data)\n",
    "    elif recommend_type == 'bygenre':\n",
    "        recommendations = get_recommendations_by_genre(input_value, netflix_data)\n",
    "    else:\n",
    "        recommendations = pd.DataFrame(columns=['Invalid recommendation type'])\n",
    "\n",
    "    return render_template('result.html', tables=[recommendations.to_html(classes='data')], titles=recommendations.columns.values)\n",
    "\n",
    "if __name__ == '__main__':\n",
    "    app.run(debug=False)\n"
   ]
  },
  {
   "cell_type": "code",
   "execution_count": null,
   "id": "298899d5",
   "metadata": {},
   "outputs": [],
   "source": []
  }
 ],
 "metadata": {
  "kernelspec": {
   "display_name": "Python 3 (ipykernel)",
   "language": "python",
   "name": "python3"
  },
  "language_info": {
   "codemirror_mode": {
    "name": "ipython",
    "version": 3
   },
   "file_extension": ".py",
   "mimetype": "text/x-python",
   "name": "python",
   "nbconvert_exporter": "python",
   "pygments_lexer": "ipython3",
   "version": "3.11.5"
  }
 },
 "nbformat": 4,
 "nbformat_minor": 5
}
